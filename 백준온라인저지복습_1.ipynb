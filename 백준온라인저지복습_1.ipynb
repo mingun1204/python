{
  "nbformat": 4,
  "nbformat_minor": 0,
  "metadata": {
    "colab": {
      "provenance": [],
      "authorship_tag": "ABX9TyMOJMlPRo+QLgZmAROdQBfu",
      "include_colab_link": true
    },
    "kernelspec": {
      "name": "python3",
      "display_name": "Python 3"
    },
    "language_info": {
      "name": "python"
    }
  },
  "cells": [
    {
      "cell_type": "markdown",
      "metadata": {
        "id": "view-in-github",
        "colab_type": "text"
      },
      "source": [
        "<a href=\"https://colab.research.google.com/github/mingun1204/python/blob/main/%EB%B0%B1%EC%A4%80%EC%98%A8%EB%9D%BC%EC%9D%B8%EC%A0%80%EC%A7%80%EB%B3%B5%EC%8A%B5_1.ipynb\" target=\"_parent\"><img src=\"https://colab.research.google.com/assets/colab-badge.svg\" alt=\"Open In Colab\"/></a>"
      ]
    },
    {
      "cell_type": "code",
      "execution_count": null,
      "metadata": {
        "colab": {
          "base_uri": "https://localhost:8080/"
        },
        "id": "lzb6oMlZby-W",
        "outputId": "490e46e9-59c4-4a1a-b05f-5de9ef9bf018"
      },
      "outputs": [
        {
          "output_type": "stream",
          "name": "stdout",
          "text": [
            "5\n",
            "54321\n",
            "15\n"
          ]
        }
      ],
      "source": [
        "a=int(input())\n",
        "q=input()\n",
        "sum=0\n",
        "\n",
        "for i in q:\n",
        "  sum+=int(i)\n",
        "\n",
        "print(sum)"
      ]
    },
    {
      "cell_type": "code",
      "source": [
        "a,b=map(int,input().split())\n",
        "n=list(map(int,input().split()))\n",
        "sum=[0]\n",
        "q=0\n",
        "\n",
        "for i in n:\n",
        "  q+=i\n",
        "  sum.append(q)\n",
        "\n",
        "for i in range(b):\n",
        "  z,x=map(int,input().split())\n",
        "  print(sum[x]-sum[z-1])"
      ],
      "metadata": {
        "colab": {
          "base_uri": "https://localhost:8080/"
        },
        "id": "W97fcClcpNio",
        "outputId": "41f9b482-4bbd-4349-bd5f-31da0666e7e8"
      },
      "execution_count": null,
      "outputs": [
        {
          "output_type": "stream",
          "name": "stdout",
          "text": [
            "5 3\n",
            "5 4 3 2 1\n",
            "1 3\n",
            "12\n",
            "2 4\n",
            "9\n",
            "5 5\n",
            "1\n"
          ]
        }
      ]
    },
    {
      "cell_type": "code",
      "source": [
        "n, m = map(int, input().split())\n",
        "\n",
        "A=[[0]*(n+1)]\n",
        "D=[[0]*(n+1) for _ in range (n+1)]\n",
        "\n",
        "for i in range(n):\n",
        "  A_row = [0]+[int(x) for x in input().split()]\n",
        "  A.append(A_row)\n",
        "\n",
        "for i in range(1,n+1):\n",
        "  for j in range(1,n+1):\n",
        "    D[i][j]=D[i][j-1]+D[i-1][j]-D[i-1][j-1]+A[i][j]\n",
        "\n",
        "for _ in range(m):\n",
        "  x1,y1,x2,y2=map(int,input().split())\n",
        "  result=D[x2][y2]-D[x1-1][y2] -D[x2][y1-1]+D[x1-1][y1-1]\n",
        "  print(result)"
      ],
      "metadata": {
        "id": "rCIMTqTfy63P",
        "colab": {
          "base_uri": "https://localhost:8080/"
        },
        "outputId": "a09120c2-7518-4c3e-cc6d-ad4faa3783eb"
      },
      "execution_count": 1,
      "outputs": [
        {
          "output_type": "stream",
          "name": "stdout",
          "text": [
            "4 3\n",
            "1 2 3 4\n",
            "2 3 4 5\n",
            "3 4 5 6\n",
            "4 5 6 7\n",
            "2 2 3 4\n",
            "27\n",
            "3 4 3 4\n",
            "6\n",
            "1 1 4 4 \n",
            "64\n"
          ]
        }
      ]
    },
    {
      "cell_type": "code",
      "source": [],
      "metadata": {
        "id": "h_nylM4C2Ds_"
      },
      "execution_count": null,
      "outputs": []
    }
  ]
}