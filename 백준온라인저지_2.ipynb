{
  "nbformat": 4,
  "nbformat_minor": 0,
  "metadata": {
    "colab": {
      "provenance": [],
      "authorship_tag": "ABX9TyOSjWEHxvqpbABpGQmuuEcB",
      "include_colab_link": true
    },
    "kernelspec": {
      "name": "python3",
      "display_name": "Python 3"
    },
    "language_info": {
      "name": "python"
    }
  },
  "cells": [
    {
      "cell_type": "markdown",
      "metadata": {
        "id": "view-in-github",
        "colab_type": "text"
      },
      "source": [
        "<a href=\"https://colab.research.google.com/github/mingun1204/python/blob/main/%EB%B0%B1%EC%A4%80%EC%98%A8%EB%9D%BC%EC%9D%B8%EC%A0%80%EC%A7%80_2.ipynb\" target=\"_parent\"><img src=\"https://colab.research.google.com/assets/colab-badge.svg\" alt=\"Open In Colab\"/></a>"
      ]
    },
    {
      "cell_type": "code",
      "execution_count": 3,
      "metadata": {
        "colab": {
          "base_uri": "https://localhost:8080/"
        },
        "id": "3KrP6XNOP4Ba",
        "outputId": "3f632311-aed8-4856-f279-7cb18967d20b"
      },
      "outputs": [
        {
          "output_type": "stream",
          "name": "stdout",
          "text": [
            "12\n"
          ]
        }
      ],
      "source": [
        "#구간 합 구하기1\n",
        "a=[5,4,3,2,1]\n",
        "q=1\n",
        "w=3\n",
        "z=[0]\n",
        "s=0\n",
        "for i in a:\n",
        "  s=s+i\n",
        "  z.append(s)\n",
        "\n",
        "print(z[w]-z[q-1])"
      ]
    },
    {
      "cell_type": "code",
      "source": [
        "#구간 합 구하기2"
      ],
      "metadata": {
        "id": "6GeHhFFbUWLL"
      },
      "execution_count": 4,
      "outputs": []
    },
    {
      "cell_type": "code",
      "source": [
        "#투 포인터, 연속된 자연수의 합 구하기\n",
        "n=int(input())\n",
        "start=1\n",
        "end=1\n",
        "sum=1\n",
        "count=1\n",
        "\n",
        "while end!=n:\n",
        "  if sum==n:\n",
        "    count+=1\n",
        "    end+=1\n",
        "    sum+=end\n",
        "\n",
        "  elif sum>n:\n",
        "    sum-=start\n",
        "    start+=1\n",
        "\n",
        "  else:\n",
        "    end+=1\n",
        "    sum+=end\n",
        "print(count)"
      ],
      "metadata": {
        "colab": {
          "base_uri": "https://localhost:8080/"
        },
        "id": "iDDazTseWSi0",
        "outputId": "45843c53-cd11-47a6-e703-ce5e69202eee"
      },
      "execution_count": 6,
      "outputs": [
        {
          "output_type": "stream",
          "name": "stdout",
          "text": [
            "20\n",
            "2\n"
          ]
        }
      ]
    },
    {
      "cell_type": "code",
      "source": [
        "#1940번\n",
        "\n",
        "m=int(input())\n",
        "a=list(map(int,input().split()))\n",
        "a.sort()\n",
        "start=0\n",
        "end=len(a)-1\n",
        "count=0\n",
        "\n",
        "while start<end:\n",
        "  if m==a[start]+a[end]:\n",
        "    count+=1\n",
        "    start+=1\n",
        "    end-=1\n",
        "  elif m>a[start]+a[end]:\n",
        "    start+=1\n",
        "  else:\n",
        "    end-=1\n",
        "print(count)"
      ],
      "metadata": {
        "colab": {
          "base_uri": "https://localhost:8080/"
        },
        "id": "i9STbDIpYylY",
        "outputId": "42bb8318-3816-42a5-8a72-d23294fef333"
      },
      "execution_count": 14,
      "outputs": [
        {
          "output_type": "stream",
          "name": "stdout",
          "text": [
            "9\n",
            "2 7 4 1 5 3 7\n",
            "2\n"
          ]
        }
      ]
    }
  ]
}