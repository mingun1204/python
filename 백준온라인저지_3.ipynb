{
  "nbformat": 4,
  "nbformat_minor": 0,
  "metadata": {
    "colab": {
      "provenance": [],
      "authorship_tag": "ABX9TyPtwlTNggs/i2VZF9osXQ1K",
      "include_colab_link": true
    },
    "kernelspec": {
      "name": "python3",
      "display_name": "Python 3"
    },
    "language_info": {
      "name": "python"
    }
  },
  "cells": [
    {
      "cell_type": "markdown",
      "metadata": {
        "id": "view-in-github",
        "colab_type": "text"
      },
      "source": [
        "<a href=\"https://colab.research.google.com/github/mingun1204/python/blob/main/%EB%B0%B1%EC%A4%80%EC%98%A8%EB%9D%BC%EC%9D%B8%EC%A0%80%EC%A7%80_3.ipynb\" target=\"_parent\"><img src=\"https://colab.research.google.com/assets/colab-badge.svg\" alt=\"Open In Colab\"/></a>"
      ]
    },
    {
      "cell_type": "code",
      "execution_count": null,
      "metadata": {
        "id": "My2q_8FKWhNe",
        "colab": {
          "base_uri": "https://localhost:8080/"
        },
        "outputId": "c43b9dca-b0c5-46c2-dd05-7a19c025ff6f"
      },
      "outputs": [
        {
          "output_type": "stream",
          "name": "stdout",
          "text": [
            "1 2 3 4 5 6 7 8 9 10\n",
            "8\n"
          ]
        }
      ],
      "source": [
        "#좋은 수 구하기\n",
        "\n",
        " a=list(map(int,input().split()))\n",
        "result=0\n",
        "a.sort()\n",
        "n=len(a)\n",
        "\n",
        "for k in range(n):\n",
        "  find=a[k]\n",
        "  i=0\n",
        "  j=n-1\n",
        "  while i < j:\n",
        "    if a[i]+a[j]==find:\n",
        "      if i!=k and j != k:\n",
        "        result+=1\n",
        "        break\n",
        "      elif i ==k:\n",
        "        i+=1\n",
        "      elif j==k:\n",
        "        j-=1\n",
        "    elif a[i]+a[j]<find:\n",
        "      i+=1\n",
        "    else:\n",
        "      j-=1\n",
        "print(result)"
      ]
    },
    {
      "cell_type": "code",
      "source": [
        "s,p=map(int,input().split())\n",
        "a=list(input())\n",
        "checklist=list(map(int,input().split()))\n",
        "mylist=[0]*4\n",
        "result=0\n",
        "checksecret=0\n",
        "\n",
        "\n",
        "def myadd(c):\n",
        "  global checklist, mylist, checksecret\n",
        "  if c=='A':\n",
        "    mylist[0]+=1\n",
        "    if checklist[0]==mylist[0]:\n",
        "      checksecret+=1\n",
        "\n",
        "  elif c=='C':\n",
        "    mylist[1]+=1\n",
        "    if checklist[1]==mylist[1]:\n",
        "      checksecret+=1\n",
        "\n",
        "  elif c=='G':\n",
        "    mylist[2]+=1\n",
        "    if checklist[2]==mylist[2]:\n",
        "      checksecret+=1\n",
        "\n",
        "  elif c=='T':\n",
        "    mylist[3]+=1\n",
        "    if checklist[3]==mylist[3]:\n",
        "      checksecret+=1\n",
        "\n",
        "def myremove(c):\n",
        "  global checklist, mylist, checksecret\n",
        "  if c=='A':\n",
        "    mylist[0]-=1\n",
        "    if checklist[0]==mylist[0]:\n",
        "      checksecret-=1\n",
        "\n",
        "  elif c=='C':\n",
        "    mylist[1]-=1\n",
        "    if checklist[1]==mylist[1]:\n",
        "      checksecret-=1\n",
        "\n",
        "  elif c=='G':\n",
        "    mylist[2]-=1\n",
        "    if checklist[2]==mylist[2]:\n",
        "      checksecret-=1\n",
        "\n",
        "  elif c=='T':\n",
        "    mylist[3]-=1\n",
        "    if checklist[3]==mylist[3]:\n",
        "      checksecret-=1\n",
        "\n",
        "for i in range(4):\n",
        "  if checklist[i]==0:\n",
        "    checksecret+=1\n",
        "\n",
        "for i in range(p):\n",
        "  myadd(a[i])\n",
        "\n",
        "if checksecret==4:\n",
        "  result+=1\n",
        "\n",
        "for i in range(p,s):\n",
        "  j=i-p\n",
        "  myadd(a[i])\n",
        "  print(mylist)\n",
        "  myremove(a[j])\n",
        "  print(checksecret)\n",
        "  if checksecret==4:\n",
        "    result+=1\n",
        "\n",
        "print(result)"
      ],
      "metadata": {
        "id": "Bo-ActlDdw4t",
        "colab": {
          "base_uri": "https://localhost:8080/"
        },
        "outputId": "1f6c7bc9-a028-49bd-a4ca-e34757333a52"
      },
      "execution_count": null,
      "outputs": [
        {
          "output_type": "stream",
          "name": "stdout",
          "text": [
            "4 2\n",
            "GATA\n",
            "1 0 0 1\n",
            "[1, 0, 1, 1]\n",
            "3\n",
            "[2, 0, 0, 1]\n",
            "2\n",
            "0\n"
          ]
        }
      ]
    },
    {
      "cell_type": "code",
      "source": [
        "from collections import deque\n",
        "\n",
        "a=deque([1,2])\n",
        "print(a[0])"
      ],
      "metadata": {
        "id": "82VHr4KneStE"
      },
      "execution_count": null,
      "outputs": []
    },
    {
      "cell_type": "code",
      "source": [
        "a,b=map(int,input().split())\n",
        "l=list(map(int,input().split()))\n",
        "sum=[]\n",
        "q=0\n",
        "for i in range(a):\n",
        "  if q!=4:\n",
        "    if sum[i]>l[i]:\n",
        "      sum[i]=l[i]"
      ],
      "metadata": {
        "id": "lGNUAOOlzAqJ"
      },
      "execution_count": null,
      "outputs": []
    },
    {
      "cell_type": "code",
      "source": [
        "from collections import deque\n",
        "N,L = map(int,input().split())\n",
        "mydeque = deque()\n",
        "now = list(map(int,input().split()))\n",
        "\n",
        "for i in range(N):\n",
        "  while mydeque and mydeque[-1][0] > now[i]:\n",
        "    mydeque.pop()\n",
        "  mydeque.append((now[i],i))\n",
        "  if mydeque[0][1] <= i-L:\n",
        "    mydeque.popleft()\n",
        "  print(mydeque[0][0],end=' ')\n",
        "  #1 5 2 3 6 2 3 7 3 5 2"
      ],
      "metadata": {
        "colab": {
          "base_uri": "https://localhost:8080/"
        },
        "id": "jJB0bPYV4Exx",
        "outputId": "8e2d86e8-9189-4427-9a05-0e1d3ce4d040"
      },
      "execution_count": 19,
      "outputs": [
        {
          "output_type": "stream",
          "name": "stdout",
          "text": [
            "12 3 \n",
            "1 5 2 3 6 2 3 7 3 5 2 6\n",
            "1 1 1 2 2 2 2 2 3 3 2 2 deque([(2, 10), (6, 11)])\n"
          ]
        }
      ]
    },
    {
      "cell_type": "code",
      "source": [],
      "metadata": {
        "id": "f_BAaWUh7PKJ"
      },
      "execution_count": null,
      "outputs": []
    }
  ]
}