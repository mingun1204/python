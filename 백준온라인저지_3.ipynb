{
  "nbformat": 4,
  "nbformat_minor": 0,
  "metadata": {
    "colab": {
      "provenance": [],
      "authorship_tag": "ABX9TyMvRv54v+JvP5xab/aFtaTw",
      "include_colab_link": true
    },
    "kernelspec": {
      "name": "python3",
      "display_name": "Python 3"
    },
    "language_info": {
      "name": "python"
    }
  },
  "cells": [
    {
      "cell_type": "markdown",
      "metadata": {
        "id": "view-in-github",
        "colab_type": "text"
      },
      "source": [
        "<a href=\"https://colab.research.google.com/github/mingun1204/python/blob/main/%EB%B0%B1%EC%A4%80%EC%98%A8%EB%9D%BC%EC%9D%B8%EC%A0%80%EC%A7%80_3.ipynb\" target=\"_parent\"><img src=\"https://colab.research.google.com/assets/colab-badge.svg\" alt=\"Open In Colab\"/></a>"
      ]
    },
    {
      "cell_type": "code",
      "execution_count": 3,
      "metadata": {
        "id": "My2q_8FKWhNe",
        "colab": {
          "base_uri": "https://localhost:8080/"
        },
        "outputId": "c43b9dca-b0c5-46c2-dd05-7a19c025ff6f"
      },
      "outputs": [
        {
          "output_type": "stream",
          "name": "stdout",
          "text": [
            "1 2 3 4 5 6 7 8 9 10\n",
            "8\n"
          ]
        }
      ],
      "source": [
        "a=list(map(int,input().split()))\n",
        "result=0\n",
        "a.sort()\n",
        "n=len(a)\n",
        "\n",
        "for k in range(n):\n",
        "  find=a[k]\n",
        "  i=0\n",
        "  j=n-1\n",
        "  while i < j:\n",
        "    if a[i]+a[j]==find:\n",
        "      if i!=k and j != k:\n",
        "        result+=1\n",
        "        break\n",
        "      elif i ==k:\n",
        "        i+=1\n",
        "      elif j==k:\n",
        "        j-=1\n",
        "    elif a[i]+a[j]<find:\n",
        "      i+=1\n",
        "    else:\n",
        "      j-=1\n",
        "print(result)"
      ]
    },
    {
      "cell_type": "code",
      "source": [],
      "metadata": {
        "id": "Bo-ActlDdw4t"
      },
      "execution_count": null,
      "outputs": []
    }
  ]
}